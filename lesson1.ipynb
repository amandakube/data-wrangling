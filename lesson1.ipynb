{
 "cells": [
  {
   "cell_type": "markdown",
   "metadata": {},
   "source": [
    "# Data Wrangling\n",
    "## Lesson 1, Introduction & Visualizing Data\n",
    "\n",
    "Welcome to Data Wrangling.\n",
    "\n",
    "This course will primarily use Jupyter Notebook, an open-source web application that allows you to create and share documents that contain live code, equations, visualizations, narrative text, and many other things.\n",
    "\n",
    "### Python Libraries\n",
    "\n",
    "Python libraries will be an important part of the course. Libraries are a collection of functions and methods that let you perform actions without writing code, since the code is already written for you. Libraries can be a difficult concept to understand, so feel free to use the internet to gain a better understanding of what they are. In order to have all the python libraries required for the course, go to your Anaconda Navigator, click on Environments, click on the arrow next to \"base(root)\", and click \"Open Terminal\". Once your terminal is open, type in the following commands after each one is installed: \n",
    "\n",
    "* pip install pandas\n",
    "* pip install numpy\n",
    "* pip install matplotlib\n",
    "\n",
    "Alternatively, you can simply open a Terminal window (Mac OS/Unix) from your Applications folder or a command prompt (Windows) and run the same commands.\n",
    "\n",
    "### Basic Jupyter Notebook Functions\n",
    "\n",
    "Jupyter Notebook executes code within cells. This is convenient because it gives you the ability to run cells individually, all together at once, or in several other variations. You should see an empty cell below this text cell - all cells will have \"In[]:\" to the left of it. Inside the bracket you will typically either see a number, an asterisk, or nothing. A number indicates the chronological order in which a cell was run, an asterisk means the cell is currently running, and a blank bracket means the cell is yet to be run. In Jupyter Notebook, cells will run individually if you just click \"Run\" (or Shift + Enter) while the cell is in focus, and will not reference any other cell unless another cell was run before it. For instance, if you import a python library in one cell and run it, and then use the library in another cell to compute an equation, the equation will execute with no problem. However, if you import a library but do NOT run the cell, the library will not be imported and any cell referencing that library will not succesfully execute because the library cannot be found. To get around this issue, simply click on \"Cell\" at the top of the notebook, and \"Run All\". \n",
    "\n",
    "** If you are confused about this, don't worry! You will understand it better once you get started. **"
   ]
  },
  {
   "cell_type": "markdown",
   "metadata": {},
   "source": [
    "### Importing Libraries\n",
    "\n",
    "Let's begin to import some libraries. Our first library is called \"numpy\", which is a library that helps with numerical calculations. To import it, we simply type \"import numpy\" into a cell, and in python it is typically referenced as just \"np\", so we will type \"import numpy as np\" into a cell. "
   ]
  },
  {
   "cell_type": "code",
   "execution_count": 3,
   "metadata": {},
   "outputs": [],
   "source": [
    "import numpy as np\n"
   ]
  },
  {
   "cell_type": "markdown",
   "metadata": {},
   "source": [
    "Now, it is your turn to import some other libraries we will need. Figure out how to import the library \"pandas\" (as pd) and \"matplotlib.pyplot\" (as plt). \n",
    " \n",
    "We will also need to have stats from the library \"scipy\". This may be trickier than the other libraries, so search on the internet."
   ]
  },
  {
   "cell_type": "code",
   "execution_count": 4,
   "metadata": {},
   "outputs": [],
   "source": [
    "# import libraries here\n"
   ]
  },
  {
   "cell_type": "markdown",
   "metadata": {},
   "source": [
    "### Kaggle Datasets\n",
    "\n",
    "Today, you will learn how to obtain data and visualize it in Jupyter. We will use datasets from kaggle.com. Kaggle is an online community of data scientists that, among other things, is used to find and publish data sets. Please create a free account and search for the Powerlifting Database from OpenPowerlifting. This database is useful because it has a large number of entries, lots of variables, and some entries that may be incomplete, inaccurate, or unnecessary. Your job later on will be to figure out how to manipulate, clean, and visualize the data. \n",
    "\n",
    "Download the file as a comma-separated values (CSV) file, and then drag it into your coursework folder. Name it \"powerliftingdata.csv\"."
   ]
  },
  {
   "cell_type": "code",
   "execution_count": 5,
   "metadata": {},
   "outputs": [],
   "source": [
    "# To make a comment in a Python cell, simply type \"#\" in front of the text. \n",
    "# Python will ignore anything with a \"#\" in front of it. It's usually used to explain code above or below the comment."
   ]
  },
  {
   "cell_type": "code",
   "execution_count": 6,
   "metadata": {},
   "outputs": [
    {
     "name": "stderr",
     "output_type": "stream",
     "text": [
      "/anaconda3/lib/python3.6/site-packages/IPython/core/interactiveshell.py:2785: DtypeWarning: Columns (35) have mixed types. Specify dtype option on import or set low_memory=False.\n",
      "  interactivity=interactivity, compiler=compiler, result=result)\n"
     ]
    }
   ],
   "source": [
    "# The following code reads the powerlifting data set and lets you access it within your notebook: \n",
    "# This will only work if you have imported the pandas library correctly. \n",
    "\n",
    "data = pd.read_csv(\"powerliftingdata.csv\")\n",
    "\n"
   ]
  },
  {
   "cell_type": "markdown",
   "metadata": {},
   "source": [
    "### Presenting the Data\n",
    "\n",
    "Great work! If you don't have any errors, then you have succesfully imported the powerlifting dataset into your notebook and stored it in a variable called \"data\". \n",
    "\n",
    "**Try this!** Type \"data\" into the empty cell below. It should give you a table of your data."
   ]
  },
  {
   "cell_type": "code",
   "execution_count": 7,
   "metadata": {},
   "outputs": [],
   "source": [
    "# your code here"
   ]
  },
  {
   "cell_type": "markdown",
   "metadata": {},
   "source": [
    "<b> Use the internet to write code that completes these tasks: </b>\n",
    "- Print the first 5 rows of the dataset \n",
    "- Print only the \"Name\" column of the data\n",
    "- List out the datatype for each column\n",
    "- Remove all columns except for Name, Sex, and Age\n",
    "- Print out the number of null data points that exist\n",
    "- Delete rows that contain any null data points"
   ]
  },
  {
   "cell_type": "code",
   "execution_count": 8,
   "metadata": {},
   "outputs": [],
   "source": [
    "# your code here "
   ]
  }
 ],
 "metadata": {
  "kernelspec": {
   "display_name": "Python 3",
   "language": "python",
   "name": "python3"
  },
  "language_info": {
   "codemirror_mode": {
    "name": "ipython",
    "version": 3
   },
   "file_extension": ".py",
   "mimetype": "text/x-python",
   "name": "python",
   "nbconvert_exporter": "python",
   "pygments_lexer": "ipython3",
   "version": "3.7.3"
  }
 },
 "nbformat": 4,
 "nbformat_minor": 2
}
